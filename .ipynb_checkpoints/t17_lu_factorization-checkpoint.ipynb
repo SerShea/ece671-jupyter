{
 "cells": [
  {
   "cell_type": "markdown",
   "metadata": {},
   "source": [
    "[Table of Contents](table_of_contents.ipynb)"
   ]
  },
  {
   "cell_type": "markdown",
   "metadata": {},
   "source": [
    "# Topic 17. LU Factorization\n",
    "Author: Spencer Ammermon \n",
    "        spencer.ammermon@gmail.com\n",
    "    "
   ]
  },
  {
   "cell_type": "markdown",
   "metadata": {},
   "source": [
    "##  Introduction\n",
    "Many situations arise where an engineer must solve a linear equation of the form $\\textbf{A}\\vec{x}=\\vec{b}$. In some cases, matrix $\\textbf{A}$ is in a special form (such as a Toeplitz, Vandermonde, or Hankel matrix) and $\\vec{x}$ can easily be solved for numerically. When these special forms do not apply to matrix $\\textbf{A}$, one possibility is to factorize $\\textbf{A} = \\textbf{LU}$ where $\\textbf{L}$ is a lower triangular matrix with ones on the diagonal and $\\textbf{U}$ is an upper diagonal matrix. The solution to $\\textbf{A}\\vec{x}=\\vec{b}$ can then be found without explicitly computing $\\textbf{A}^{-1}\\vec{b}$."
   ]
  },
  {
   "cell_type": "markdown",
   "metadata": {},
   "source": [
    "## LU Factorization in Detail\n",
    "\n",
    "When finding the factorization of an $m x m$ matrix $\\textbf{A}$, we also compute a permutation matrix $\\textbf{P}$ that represents $\\textit{pivoting}$ in the factorization. We pivot in the factorization so that we always divide by large numbers to ensure numerical stability. The factorization then becomes $\\textbf{PA} = \\textbf{LU}$. \n",
    "\n",
    "### Computing P, L, and U\n",
    "\n",
    "To compute matrices $\\textbf{P}$, $\\textbf{L}$, and $\\textbf{U}$, begin with the original matrix $\\textbf{A}$. The goal is to put matrix $\\textbf{A}$ in triangular form while maintaining numerical stability by pivoting to reduce the row with the largest element. Consider Dr. Beard's example matrix:\n",
    "\\begin{equation}\n",
    "\\textbf{A} = \n",
    "\\begin{bmatrix}\n",
    "    1 & -2 & 3\\\\\n",
    "    -4 & 5 & -6\\\\\n",
    "    7 & -8 & 9\n",
    "\\end{bmatrix}\n",
    "\\end{equation}\n",
    "Where we need to swap row 1 and 3 so that the largest element in column 1 is in the 1st position of column 1. To do this, we can compute $\\textbf{P}_{1,3}\\textbf{A}$ where $\\textbf{P}_{1,3}$ is found by swapping $\\textit{columns}$ 1 and 3 of an identity matrix. \n",
    "\n",
    "A function that computes the permutation matrix is as follows:"
   ]
  },
  {
   "cell_type": "code",
   "execution_count": 32,
   "metadata": {},
   "outputs": [
    {
     "name": "stdout",
     "output_type": "stream",
     "text": [
      "First Permutation Matrix:\n",
      " [[0. 0. 1.]\n",
      " [0. 1. 0.]\n",
      " [1. 0. 0.]]\n"
     ]
    }
   ],
   "source": [
    "import numpy as np\n",
    "\n",
    "A = np.array([[1, -2, 3],\n",
    "              [-4, 5, -6],\n",
    "              [7, -8, 9]])\n",
    "\n",
    "def permutationMatrix(n,col,Q): # n is number of rows and cols, Q is a matrix\n",
    "    # look down first column, find the largest value in magnitude\n",
    "    # create a permutation matrix with ones and zeros \n",
    "    P = np.identity(n)\n",
    "    max_index_in_col = np.argmax((np.abs(Q[col:,col:][:,0])))\n",
    "    # swap the col column with the max column\n",
    "    P[:,[col, max_index_in_col+col]] = P[:,[max_index_in_col+col, col]]\n",
    "    return P\n",
    "\n",
    "P_13 = permutationMatrix(3,0,A)\n",
    "\n",
    "print('First Permutation Matrix:\\n',P_13)\n"
   ]
  },
  {
   "cell_type": "markdown",
   "metadata": {},
   "source": [
    "\\begin{equation}\n",
    "    \\textbf{P}_{1,3}\\textbf{A}=\n",
    "    \\begin{bmatrix}\n",
    "    0 & 0 & 1\\\\\n",
    "    0 & 1 & 0\\\\\n",
    "    1 & 0 & 0\n",
    "    \\end{bmatrix}\n",
    "    \\begin{bmatrix}\n",
    "    1 & -2 & 3\\\\\n",
    "    -4 & 5 & -6\\\\\n",
    "    7 & -8 & 9\n",
    "    \\end{bmatrix} =\n",
    "    \\begin{bmatrix}\n",
    "    7 & -8 & 9\\\\\n",
    "    -4 & 5 & -6\\\\\n",
    "    1 & -2 & 3\n",
    "    \\end{bmatrix}\n",
    "\\end{equation}\n",
    "The next step is to zero out rows 2 and 3 in column 1 by dividing by the value in $\\textbf{A}[1,1]$. This is done by finding an elementary matrix that is an identity matrix with a first column that will zero out the first column of $\\textbf{P}_{1,3}\\textbf{A}$ when multiplied. To find $\\textbf{E}_1$, start with an identity matrix and then copy the first column of $\\textbf{P}_{1,3}\\textbf{A}$ to the first column of the identity matrix, and then multiply column 1 by $\\dfrac{-1}{\\textbf{P}_{1,3}\\textbf{A}[1,1]}$. This leads to:\n",
    "\\begin{equation}\n",
    "    \\textbf{E}_1\\textbf{P}_{1,3}\\textbf{A} = \n",
    "    \\begin{bmatrix}\n",
    "    1 & 0 & 0\\\\\n",
    "    \\frac{4}{7} & 1 & 0\\\\\n",
    "    \\frac{-1}{7} & 0 & 1\n",
    "    \\end{bmatrix}\n",
    "        \\begin{bmatrix}\n",
    "    0 & 0 & 1\\\\\n",
    "    0 & 1 & 0\\\\\n",
    "    1 & 0 & 0\n",
    "    \\end{bmatrix}\n",
    "    \\begin{bmatrix}\n",
    "    1 & -2 & 3\\\\\n",
    "    -4 & 5 & -6\\\\\n",
    "    7 & -8 & 9\n",
    "    \\end{bmatrix} =\n",
    "    \\begin{bmatrix}\n",
    "    7 & -8 & 9\\\\\n",
    "    0 & 0.4286 & -0.8571\\\\\n",
    "    0 & -0.8571 & 1.7143\n",
    "    \\end{bmatrix}\n",
    "\\end{equation}\n",
    "\n",
    "The elementary matrices can be found with the function \"zeroOutColumn(n,col,Q)\" found below:"
   ]
  },
  {
   "cell_type": "code",
   "execution_count": 21,
   "metadata": {},
   "outputs": [
    {
     "name": "stdout",
     "output_type": "stream",
     "text": [
      "E_1:\n",
      " [[ 1.      0.      0.    ]\n",
      " [ 0.5714  1.      0.    ]\n",
      " [-0.1429  0.      1.    ]]\n",
      "E_1@P_13@A:\n",
      " [[ 7.     -8.      9.    ]\n",
      " [-0.      0.4286 -0.8571]\n",
      " [ 0.     -0.8571  1.7143]]\n"
     ]
    }
   ],
   "source": [
    "def zeroOutColumn(n,col,Q):\n",
    "    E = np.identity(n)          # start out with an identity matrix\n",
    "    divisor = -1*Q[col][col]    # divisor is the first element in the matrix\n",
    "    size = len(Q[col:,col:])    \n",
    "    for i in range(size-1):\n",
    "        # E[col:,col:] is a square submatrix of E\n",
    "        # Q[col:,col:] is a square submatrix of the input matrix Q\n",
    "        # Go through the first column and divide all elements after the first \n",
    "        #  by the divisor\n",
    "        E[col:,col:][i+1][0] = Q[col:,col:][i+1][0]/divisor\n",
    "    return E\n",
    "\n",
    "P_13 = permutationMatrix(3,0,A)\n",
    "E_1 = zeroOutColumn(3,0,P_13 @ A)\n",
    "res_1 = E_1 @ P_13 @ A\n",
    "print('E_1:\\n',np.round(E_1,4))\n",
    "print('E_1@P_13@A:\\n',np.round(res_1,4))"
   ]
  },
  {
   "cell_type": "markdown",
   "metadata": {},
   "source": [
    "\n",
    "Utilizing the above code, I chose to solve for the remaining permutation and elementary matrices by looking at submatrices of $\\textbf{A}$.\n",
    "Now that the first column contains a pivot, we can focus on the second column by looking at the submatrix starting at $\\textbf{E}_1\\textbf{P}_{1,3}\\textbf{A}[2,2]$:\n",
    "\\begin{equation}\n",
    "    \\textbf{E}_1\\textbf{P}_{1,3}\\textbf{A}_{[2,2]}=\n",
    "    \\begin{bmatrix}\n",
    "    0.4286 & -0.8571\\\\\n",
    "    -0.8571 & 1.7143\n",
    "    \\end{bmatrix}\n",
    "\\end{equation}\n",
    "and then computing the permutation and elementary matrix in the same manner as $\\textbf{P}_{1,3}$ and $\\textbf{E}_1$. The remaining permutation and elementary matrices will remain $m x m$, not the size of the submatrix. The result should be:\n",
    "\\begin{equation}\n",
    "    \\textbf{E}_2\\textbf{P}_{2,3}\\textbf{E}_1\\textbf{P}_{1,3}\\textbf{A} =\n",
    "    \\begin{bmatrix}\n",
    "        7 & -8 & 9\\\\\n",
    "        0 & -0.8571 & 1.7143\\\\\n",
    "        0 & 0 & 0\n",
    "    \\end{bmatrix} = \\textbf{U}\n",
    "\\end{equation}\n",
    "\n",
    "$\\textbf{L}$ can be computed with an intermediate step by first computing:\n",
    "\\begin{equation}\n",
    "    \\textbf{V} = \\textbf{P}_{1,3}\\textbf{E}^{-1}_1\\textbf{P}_{2,3}\\textbf{E}^{-1}_{2,3}\n",
    "\\end{equation}\n",
    "\\begin{equation}\n",
    "    \\textbf{P}_{2,3}\\textbf{P}_{1,3}\\textbf{V} = \n",
    "    \\begin{bmatrix}\n",
    "        1 & 0 & 0\\\\\n",
    "        0.1429 & 1 & 0\\\\\n",
    "        -0.5714 & -0.5 & 1\n",
    "    \\end{bmatrix} = \\textbf{L}\n",
    "\\end{equation}\n",
    "\n",
    "Finally, $\\textbf{P}$ can be computed as:\n",
    "\\begin{equation}\n",
    "    \\textbf{P}_{2,3}\\textbf{P}_{1,3} =\n",
    "    \\begin{bmatrix}\n",
    "        0 & 0 & 1\\\\\n",
    "        1 & 0 & 0\\\\\n",
    "        0 & 1 & 0\n",
    "    \\end{bmatrix} = \\textbf{P}\n",
    "\\end{equation}\n"
   ]
  },
  {
   "cell_type": "markdown",
   "metadata": {},
   "source": [
    "### Homebrew LU Factorization Code\n",
    "We now have all the components necessary to solve an equation of the form $\\textbf{Ax} = \\textbf{b}$ using LU factorization. To put all the code together and create our own LU Factorization: "
   ]
  },
  {
   "cell_type": "code",
   "execution_count": 14,
   "metadata": {},
   "outputs": [
    {
     "name": "stdout",
     "output_type": "stream",
     "text": [
      "myP:\n",
      " [[0. 0. 1.]\n",
      " [1. 0. 0.]\n",
      " [0. 1. 0.]]\n",
      "myL:\n",
      " [[ 1.      0.      0.    ]\n",
      " [ 0.1429  1.      0.    ]\n",
      " [-0.5714 -0.5     1.    ]]\n",
      "myU:\n",
      " [[ 7.     -8.      9.    ]\n",
      " [ 0.     -0.8571  1.7143]\n",
      " [-0.      0.      0.    ]]\n"
     ]
    }
   ],
   "source": [
    "\"\"\"\n",
    "Created on Tue Oct 27 10:28:34 2020\n",
    "\n",
    "@author: sma\n",
    "\n",
    "LU Factorization \n",
    "\"\"\"\n",
    "import numpy as np\n",
    "\n",
    "A = np.array([[1, -2, 3],\n",
    "              [-4, 5, -6],\n",
    "              [7, -8, 9]])\n",
    "\n",
    "def permutationMatrix(n,col,Q): # n is number of rows and cols, Q is a matrix\n",
    "    # look down first column, find the largest value in magnitude\n",
    "    # create a permutation matrix with ones and zeros \n",
    "    P = np.identity(n)\n",
    "    max_index_in_col = np.argmax((np.abs(Q[col:,col:][:,0])))\n",
    "    # flip the col column with the max column\n",
    "    P[:,[col, max_index_in_col+col]] = P[:,[max_index_in_col+col, col]]\n",
    "    return P\n",
    "\n",
    "def zeroOutColumn(n,col,Q):\n",
    "    E = np.identity(n)          # start out with an identity matrix\n",
    "    divisor = -1*Q[col][col]    # divisor is the first element in the matrix\n",
    "    size = len(Q[col:,col:])    \n",
    "    for i in range(size-1):\n",
    "        # E[col:,col:] is a square submatrix of E\n",
    "        # Q[col:,col:] is a square submatrix of the input matrix Q\n",
    "        # Go through the first column and divide all elements after the first \n",
    "        #  by the divisor\n",
    "        E[col:,col:][i+1][0] = Q[col:,col:][i+1][0]/divisor\n",
    "    return E\n",
    "\n",
    "\n",
    "def myLUFactorization(A):\n",
    "    n = len(A) # all matrices for LU must be n x n\n",
    "    P = []\n",
    "    E = []\n",
    "    U = np.zeros((n,n))\n",
    "    \n",
    "    for i in range(n-1):\n",
    "        P.append(permutationMatrix(n,i,A))      # Save the permutation matrices\n",
    "        E.append(zeroOutColumn(n,i,P[i] @ A))   # Save the zeroing matrices \n",
    "        U = E[i] @ P[i] @ A \n",
    "        A = U\n",
    "      \n",
    "    V_prev = P[0]@np.linalg.inv(E[0])\n",
    "    V = np.zeros((n,n))\n",
    "    \n",
    "    for j in range(len(P)-1): \n",
    "        V = V_prev @ P[j+1] @ np.linalg.inv(E[j+1]) \n",
    "        V_prev = V\n",
    "    \n",
    "    permutation_prev = P[0]\n",
    "    for k in range(len(P)-1): #counting down\n",
    "        permutation = P[k+1] @ permutation_prev \n",
    "        permutation_prev = permutation\n",
    "\n",
    "    L = permutation @ V\n",
    "\n",
    "    return permutation, L, U #P,L,U\n",
    "\n",
    "myP, myL, myU = myLUFactorization(A)\n",
    "print('myP:\\n',np.round(myP,4))\n",
    "print('myL:\\n',np.round(myL,4))\n",
    "print('myU:\\n',np.round(myU,4))"
   ]
  },
  {
   "cell_type": "markdown",
   "metadata": {},
   "source": [
    "## Simple Numerical Examples\n",
    "\n",
    "We should first check that $\\textbf{PA} = \\textbf{LU}$"
   ]
  },
  {
   "cell_type": "code",
   "execution_count": 27,
   "metadata": {},
   "outputs": [
    {
     "name": "stdout",
     "output_type": "stream",
     "text": [
      "[[ 7. -8.  9.]\n",
      " [ 1. -2.  3.]\n",
      " [-4.  5. -6.]]\n",
      "\n",
      "\n",
      "[[ 7. -8.  9.]\n",
      " [ 1. -2.  3.]\n",
      " [-4.  5. -6.]]\n"
     ]
    }
   ],
   "source": [
    "print(myP@A,)\n",
    "print('\\n')\n",
    "print(myL@myU)"
   ]
  },
  {
   "cell_type": "markdown",
   "metadata": {},
   "source": [
    "Success! We can now solve an equation in the form $\\textbf{A}\\vec{x}=\\vec{b}$. Suppose\n",
    "\\begin{equation}\n",
    "\\vec{b} = \n",
    "\\begin{bmatrix}\n",
    "    10\\\\\n",
    "    11\\\\\n",
    "    12\n",
    "\\end{bmatrix}\n",
    "\\end{equation}\n",
    "\n",
    "We then write\n",
    "\\begin{equation}\n",
    "    \\textbf{A}\\vec{x}=\\vec{b}\n",
    "\\end{equation}\n",
    "as \n",
    "\\begin{equation}\n",
    "    \\textbf{LU}\\vec{x} = \\textbf{P}\\vec{b}\n",
    "\\end{equation}\n",
    "which we can then let $\\textbf{U}\\vec{x} = \\vec{y}$, which leads to the system\n",
    "\\begin{equation}\n",
    "    \\textbf{L}\\vec{y} = \\textbf{P}\\vec{b} = \\vec{c}\n",
    "\\end{equation}\n",
    "\n",
    "Let's start with $\\textbf{L}\\vec{y} = \\textbf{P}\\vec{b}$ by solving for $\\vec{y}$ with \n",
    "\\begin{equation}\n",
    "\\vec{y}=\\textbf{L}^{-1}\\textbf{P}\\vec{b}\n",
    "\\end{equation}\n",
    "Which is easy to solve numerically because $\\textbf{L}$ is lower triangular "
   ]
  },
  {
   "cell_type": "code",
   "execution_count": 40,
   "metadata": {},
   "outputs": [
    {
     "name": "stdout",
     "output_type": "stream",
     "text": [
      "[[3.        ]\n",
      " [0.57142857]\n",
      " [4.        ]]\n"
     ]
    }
   ],
   "source": [
    "import scipy.linalg\n",
    "b = np.array([[1],\n",
    "             [2],\n",
    "             [3]])\n",
    "y = np.linalg.pinv(myL) @ myP @ b \n",
    "print(y)\n",
    "\n"
   ]
  },
  {
   "cell_type": "markdown",
   "metadata": {},
   "source": [
    "Now we can solve $\\textbf{U}\\vec{x}=\\vec{y}$ for $\\vec{x}$ numerically by using \n",
    "\\begin{equation}\n",
    "\\vec{x}=\\textbf{U}^{-1}\\vec{y}\n",
    "\\end{equation}"
   ]
  },
  {
   "cell_type": "code",
   "execution_count": 46,
   "metadata": {},
   "outputs": [
    {
     "name": "stdout",
     "output_type": "stream",
     "text": [
      "x =\n",
      " [[-0.05555556]\n",
      " [-0.11111111]\n",
      " [ 0.27777778]]\n"
     ]
    }
   ],
   "source": [
    "x = np.linalg.pinv(myU) @ y\n",
    "print('x =\\n',x)"
   ]
  },
  {
   "cell_type": "markdown",
   "metadata": {},
   "source": [
    "## An Engineering Application\n",
    "\n",
    "Provide a more sophisticated example showing one engineering example of the topic, complete with python code."
   ]
  },
  {
   "cell_type": "markdown",
   "metadata": {},
   "source": [
    "## Challenge Problem\n",
    "\n",
    "Add a homework assignment that might take 10 minutes to complete.  Make sure you can work the problem yourself, but you do not need to submit a solution to the problem."
   ]
  },
  {
   "cell_type": "code",
   "execution_count": null,
   "metadata": {},
   "outputs": [],
   "source": []
  }
 ],
 "metadata": {
  "kernelspec": {
   "display_name": "Python 3",
   "language": "python",
   "name": "python3"
  },
  "language_info": {
   "codemirror_mode": {
    "name": "ipython",
    "version": 3
   },
   "file_extension": ".py",
   "mimetype": "text/x-python",
   "name": "python",
   "nbconvert_exporter": "python",
   "pygments_lexer": "ipython3",
   "version": "3.7.0"
  }
 },
 "nbformat": 4,
 "nbformat_minor": 2
}
